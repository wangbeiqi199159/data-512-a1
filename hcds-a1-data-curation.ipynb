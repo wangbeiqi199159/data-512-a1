{
 "cells": [
  {
   "cell_type": "markdown",
   "metadata": {},
   "source": [
    "# HW1 Data curation\n",
    "\n",
    "The goal of this assignment is to construct, analyze, and publish a dataset of monthly traffic on English Wikipedia from July 1 2008 through September 30 2017.\n",
    "\n",
    "### Step 1: Data acquisition"
   ]
  },
  {
   "cell_type": "markdown",
   "metadata": {},
   "source": [
    "Urls we need are from [wikipedia API](https://wikimedia.org/api/rest_v1/#/). The legacy Pagecounts API provides access to desktop and mobile traffic data from January 2008 through July 2016. The Pageviews API provides access to desktop, mobile web, and mobile app traffic data from July 2015 through September 2017.\n",
    "\n",
    "First thing to do is to import all packages needed as follows:"
   ]
  },
  {
   "cell_type": "code",
   "execution_count": 1,
   "metadata": {
    "collapsed": true
   },
   "outputs": [],
   "source": [
    "import urllib.request\n",
    "import json \n",
    "import datetime\n",
    "import pandas as pd\n",
    "import numpy as np\n",
    "import matplotlib.pyplot as plt\n",
    "import matplotlib.dates as mdates\n",
    "from pandas.io.json import json_normalize"
   ]
  },
  {
   "cell_type": "markdown",
   "metadata": {},
   "source": [
    "Then I write a function to get scource data from url and then store data into jason files. The inputs of the function are source data url and corresponding file name you want to store. "
   ]
  },
  {
   "cell_type": "code",
   "execution_count": 2,
   "metadata": {
    "collapsed": false
   },
   "outputs": [],
   "source": [
    "def get_data(dataurl, filename):\n",
    "    \"\"\"get data from url then store into jason file in local folder\n",
    "    Args:\n",
    "        dataurl (str): url of the data source.\n",
    "        filename (str): file name you want to store.\n",
    "    \"\"\"\n",
    "    with urllib.request.urlopen(dataurl) as url:\n",
    "        data = json.loads(url.read().decode())\n",
    "    with open('data/' + filename, 'w') as outfile:\n",
    "        json.dump(data, outfile)"
   ]
  },
  {
   "cell_type": "markdown",
   "metadata": {},
   "source": [
    "Next, I generate url variables and corresponding file name variables to put into above function. "
   ]
  },
  {
   "cell_type": "code",
   "execution_count": 3,
   "metadata": {
    "collapsed": false
   },
   "outputs": [],
   "source": [
    "# source data url and corresponding filename\n",
    "pageviews_desktop_url = \"https://wikimedia.org/api/rest_v1/metrics/pageviews/aggregate/en.wikipedia.org/desktop/user/monthly/2015070100/2017093000\"\n",
    "pageviews_desktop_filename = \"pageviews_desktop_201507-201709.json\"\n",
    "\n",
    "pageviews_mobileapp_url = \"https://wikimedia.org/api/rest_v1/metrics/pageviews/aggregate/en.wikipedia.org/mobile-app/user/monthly/2015070100/2017093000\"\n",
    "pageviews_mobileapp_filename = \"pageviews_mobile-app_201507-201709.json\"\n",
    "\n",
    "pageviews_mobileweb_url = \"https://wikimedia.org/api/rest_v1/metrics/pageviews/aggregate/en.wikipedia.org/mobile-web/user/monthly/2015070100/2017093000\"\n",
    "pageviews_mobileweb_filename = \"pageviews_mobile-web_201507-201709.json\"\n",
    "\n",
    "pagecounts_desktop_site_url = \"https://wikimedia.org/api/rest_v1/metrics/legacy/pagecounts/aggregate/en.wikipedia.org/desktop-site/monthly/2008010100/2016073000\"\n",
    "pagecounts_desktop_site_filename = \"pagecounts_desktop-site_200801-201607.json\"\n",
    "\n",
    "pagecounts_mobile_site_url = \"https://wikimedia.org/api/rest_v1/metrics/legacy/pagecounts/aggregate/en.wikipedia.org/mobile-site/monthly/2008010100/2016073000\"\n",
    "pagecounts_mobile_site_filename = \"pagecounts_mobile-site_200801-201607.json\""
   ]
  },
  {
   "cell_type": "markdown",
   "metadata": {},
   "source": [
    "Last, we just need to call the function. We get the data from url and then store it into jason file under ```data``` folder."
   ]
  },
  {
   "cell_type": "code",
   "execution_count": 4,
   "metadata": {
    "collapsed": true
   },
   "outputs": [],
   "source": [
    "# get data from url then store it into jason file\n",
    "get_data(pageviews_desktop_url, pageviews_desktop_filename)\n",
    "get_data(pageviews_mobileapp_url, pageviews_mobileapp_filename)\n",
    "get_data(pageviews_mobileweb_url, pageviews_mobileweb_filename)\n",
    "get_data(pagecounts_desktop_site_url, pagecounts_desktop_site_filename)\n",
    "get_data(pagecounts_mobile_site_url, pagecounts_mobile_site_filename)"
   ]
  },
  {
   "cell_type": "markdown",
   "metadata": {},
   "source": [
    "### Step 2: Data processing\n",
    "\n",
    "For data collected from the Pageviews API, combine the monthly values for mobile-app and mobile-web to create a total mobile traffic count for each month. For all data, separate the value of timestamp into four-digit year (YYYY) and two-digit month (MM) and discard values for day and hour (DDHH).\n",
    "\n",
    "#### (1) process pageview_mobile_views\n",
    "\n",
    "Combine the monthly values for mobile-app and mobile-web to create a total mobile traffic count for each month. Separate the value of timestamp into four-digit year (YYYY) and two-digit month (MM) and discard values for day and hour (DDHH). Only keep year, month and views columns."
   ]
  },
  {
   "cell_type": "code",
   "execution_count": 5,
   "metadata": {
    "collapsed": false
   },
   "outputs": [
    {
     "data": {
      "text/html": [
       "<div>\n",
       "<table border=\"1\" class=\"dataframe\">\n",
       "  <thead>\n",
       "    <tr style=\"text-align: right;\">\n",
       "      <th></th>\n",
       "      <th>year</th>\n",
       "      <th>month</th>\n",
       "      <th>pageview_mobile_views</th>\n",
       "    </tr>\n",
       "  </thead>\n",
       "  <tbody>\n",
       "    <tr>\n",
       "      <th>0</th>\n",
       "      <td>2015</td>\n",
       "      <td>07</td>\n",
       "      <td>3288755294</td>\n",
       "    </tr>\n",
       "    <tr>\n",
       "      <th>1</th>\n",
       "      <td>2015</td>\n",
       "      <td>08</td>\n",
       "      <td>3302333038</td>\n",
       "    </tr>\n",
       "    <tr>\n",
       "      <th>2</th>\n",
       "      <td>2015</td>\n",
       "      <td>09</td>\n",
       "      <td>3170203333</td>\n",
       "    </tr>\n",
       "    <tr>\n",
       "      <th>3</th>\n",
       "      <td>2015</td>\n",
       "      <td>10</td>\n",
       "      <td>3268499132</td>\n",
       "    </tr>\n",
       "    <tr>\n",
       "      <th>4</th>\n",
       "      <td>2015</td>\n",
       "      <td>11</td>\n",
       "      <td>3236601070</td>\n",
       "    </tr>\n",
       "  </tbody>\n",
       "</table>\n",
       "</div>"
      ],
      "text/plain": [
       "   year month  pageview_mobile_views\n",
       "0  2015    07             3288755294\n",
       "1  2015    08             3302333038\n",
       "2  2015    09             3170203333\n",
       "3  2015    10             3268499132\n",
       "4  2015    11             3236601070"
      ]
     },
     "execution_count": 5,
     "metadata": {},
     "output_type": "execute_result"
    }
   ],
   "source": [
    "# load json files\n",
    "with open('data/' + pageviews_mobileweb_filename) as data_file:    \n",
    "    views_web = json.load(data_file)\n",
    "\n",
    "with open('data/' + pageviews_mobileapp_filename) as data_file:    \n",
    "    views_app = json.load(data_file)\n",
    "    \n",
    "# transform json file to pandas.dataframe\n",
    "views_web_df = json_normalize(views_web['items'])\n",
    "views_app_df = json_normalize(views_app['items'])\n",
    "\n",
    "# seperate timestamp into year and month\n",
    "views_web_year = views_web_df['timestamp'].str[0:4]\n",
    "views_web_month = views_web_df['timestamp'].str[4:6]\n",
    "\n",
    "# combine web views and app views into total views\n",
    "mobile_total = views_web_df['views'] + views_app_df['views']\n",
    "\n",
    "# create pageview_mobile_views dataframe\n",
    "pageview_mobile_views_df = pd.DataFrame({'year' : views_web_year, 'month' : views_web_month,\n",
    "                                         'pageview_mobile_views':mobile_total,})\n",
    "pageview_mobile_views_df = pageview_mobile_views_df[['year', 'month', 'pageview_mobile_views']]\n",
    "pageview_mobile_views_df[:5]"
   ]
  },
  {
   "cell_type": "markdown",
   "metadata": {},
   "source": [
    "#### (2) process pageview_desktop_views\n",
    "\n",
    "Separate the value of timestamp into four-digit year (YYYY) and two-digit month (MM) and discard values for day and hour (DDHH). Only keep year, month and views columns."
   ]
  },
  {
   "cell_type": "code",
   "execution_count": 6,
   "metadata": {
    "collapsed": false
   },
   "outputs": [
    {
     "data": {
      "text/html": [
       "<div>\n",
       "<table border=\"1\" class=\"dataframe\">\n",
       "  <thead>\n",
       "    <tr style=\"text-align: right;\">\n",
       "      <th></th>\n",
       "      <th>year</th>\n",
       "      <th>month</th>\n",
       "      <th>pageview_desktop_views</th>\n",
       "    </tr>\n",
       "  </thead>\n",
       "  <tbody>\n",
       "    <tr>\n",
       "      <th>0</th>\n",
       "      <td>2015</td>\n",
       "      <td>07</td>\n",
       "      <td>4376666686</td>\n",
       "    </tr>\n",
       "    <tr>\n",
       "      <th>1</th>\n",
       "      <td>2015</td>\n",
       "      <td>08</td>\n",
       "      <td>4332482183</td>\n",
       "    </tr>\n",
       "    <tr>\n",
       "      <th>2</th>\n",
       "      <td>2015</td>\n",
       "      <td>09</td>\n",
       "      <td>4485491704</td>\n",
       "    </tr>\n",
       "    <tr>\n",
       "      <th>3</th>\n",
       "      <td>2015</td>\n",
       "      <td>10</td>\n",
       "      <td>4477532755</td>\n",
       "    </tr>\n",
       "    <tr>\n",
       "      <th>4</th>\n",
       "      <td>2015</td>\n",
       "      <td>11</td>\n",
       "      <td>4287720220</td>\n",
       "    </tr>\n",
       "  </tbody>\n",
       "</table>\n",
       "</div>"
      ],
      "text/plain": [
       "   year month  pageview_desktop_views\n",
       "0  2015    07              4376666686\n",
       "1  2015    08              4332482183\n",
       "2  2015    09              4485491704\n",
       "3  2015    10              4477532755\n",
       "4  2015    11              4287720220"
      ]
     },
     "execution_count": 6,
     "metadata": {},
     "output_type": "execute_result"
    }
   ],
   "source": [
    "# load json files\n",
    "with open('data/' + pageviews_desktop_filename) as data_file:    \n",
    "    views_desktop = json.load(data_file)\n",
    "\n",
    "# transform json file to pandas.dataframe\n",
    "views_desktop_df = json_normalize(views_desktop['items'])\n",
    "\n",
    "# seperate timestamp into year and month\n",
    "views_desktop_year = views_desktop_df['timestamp'].str[0:4]\n",
    "views_desktop_month = views_desktop_df['timestamp'].str[4:6]\n",
    "\n",
    "# create pageview_desktop_views dataframe\n",
    "pageview_desktop_views_df = pd.DataFrame({'pageview_desktop_views': views_desktop_df['views'], \n",
    "                                         'year' : views_desktop_year, 'month' : views_desktop_month})\n",
    "pageview_desktop_views_df = pageview_desktop_views_df[['year', 'month', 'pageview_desktop_views']]\n",
    "pageview_desktop_views_df[:5]"
   ]
  },
  {
   "cell_type": "markdown",
   "metadata": {},
   "source": [
    "#### (3) process pageview_all_views\n",
    "\n",
    "Combine mobile views and desktop views to get all views.\n"
   ]
  },
  {
   "cell_type": "code",
   "execution_count": 7,
   "metadata": {
    "collapsed": false
   },
   "outputs": [
    {
     "data": {
      "text/html": [
       "<div>\n",
       "<table border=\"1\" class=\"dataframe\">\n",
       "  <thead>\n",
       "    <tr style=\"text-align: right;\">\n",
       "      <th></th>\n",
       "      <th>year</th>\n",
       "      <th>month</th>\n",
       "      <th>pageview_all_views</th>\n",
       "    </tr>\n",
       "  </thead>\n",
       "  <tbody>\n",
       "    <tr>\n",
       "      <th>0</th>\n",
       "      <td>2015</td>\n",
       "      <td>07</td>\n",
       "      <td>7665421980</td>\n",
       "    </tr>\n",
       "    <tr>\n",
       "      <th>1</th>\n",
       "      <td>2015</td>\n",
       "      <td>08</td>\n",
       "      <td>7634815221</td>\n",
       "    </tr>\n",
       "    <tr>\n",
       "      <th>2</th>\n",
       "      <td>2015</td>\n",
       "      <td>09</td>\n",
       "      <td>7655695037</td>\n",
       "    </tr>\n",
       "    <tr>\n",
       "      <th>3</th>\n",
       "      <td>2015</td>\n",
       "      <td>10</td>\n",
       "      <td>7746031887</td>\n",
       "    </tr>\n",
       "    <tr>\n",
       "      <th>4</th>\n",
       "      <td>2015</td>\n",
       "      <td>11</td>\n",
       "      <td>7524321290</td>\n",
       "    </tr>\n",
       "  </tbody>\n",
       "</table>\n",
       "</div>"
      ],
      "text/plain": [
       "   year month  pageview_all_views\n",
       "0  2015    07          7665421980\n",
       "1  2015    08          7634815221\n",
       "2  2015    09          7655695037\n",
       "3  2015    10          7746031887\n",
       "4  2015    11          7524321290"
      ]
     },
     "execution_count": 7,
     "metadata": {},
     "output_type": "execute_result"
    }
   ],
   "source": [
    "# create pageview_all_views dataframe\n",
    "pageview_all_views_df = pd.DataFrame({'pageview_all_views': pageview_desktop_views_df['pageview_desktop_views'] \n",
    "                                      + pageview_mobile_views_df['pageview_mobile_views'], \n",
    "                                         'year' : views_desktop_year, 'month' : views_desktop_month})\n",
    "pageview_all_views_df = pageview_all_views_df[['year', 'month', 'pageview_all_views']]\n",
    "pageview_all_views_df[:5]"
   ]
  },
  {
   "cell_type": "markdown",
   "metadata": {},
   "source": [
    "#### (4) process pagecount_mobile_views\n",
    "\n",
    "Separate the value of timestamp into four-digit year (YYYY) and two-digit month (MM) and discard values for day and hour (DDHH). Only keep year, month and views columns.\n"
   ]
  },
  {
   "cell_type": "code",
   "execution_count": 8,
   "metadata": {
    "collapsed": false
   },
   "outputs": [
    {
     "data": {
      "text/html": [
       "<div>\n",
       "<table border=\"1\" class=\"dataframe\">\n",
       "  <thead>\n",
       "    <tr style=\"text-align: right;\">\n",
       "      <th></th>\n",
       "      <th>year</th>\n",
       "      <th>month</th>\n",
       "      <th>pagecount_mobile_views</th>\n",
       "    </tr>\n",
       "  </thead>\n",
       "  <tbody>\n",
       "    <tr>\n",
       "      <th>0</th>\n",
       "      <td>2014</td>\n",
       "      <td>10</td>\n",
       "      <td>3091546685</td>\n",
       "    </tr>\n",
       "    <tr>\n",
       "      <th>1</th>\n",
       "      <td>2014</td>\n",
       "      <td>11</td>\n",
       "      <td>3027489668</td>\n",
       "    </tr>\n",
       "    <tr>\n",
       "      <th>2</th>\n",
       "      <td>2014</td>\n",
       "      <td>12</td>\n",
       "      <td>3278950021</td>\n",
       "    </tr>\n",
       "    <tr>\n",
       "      <th>3</th>\n",
       "      <td>2015</td>\n",
       "      <td>01</td>\n",
       "      <td>3485302091</td>\n",
       "    </tr>\n",
       "    <tr>\n",
       "      <th>4</th>\n",
       "      <td>2015</td>\n",
       "      <td>02</td>\n",
       "      <td>3091534479</td>\n",
       "    </tr>\n",
       "  </tbody>\n",
       "</table>\n",
       "</div>"
      ],
      "text/plain": [
       "   year month  pagecount_mobile_views\n",
       "0  2014    10              3091546685\n",
       "1  2014    11              3027489668\n",
       "2  2014    12              3278950021\n",
       "3  2015    01              3485302091\n",
       "4  2015    02              3091534479"
      ]
     },
     "execution_count": 8,
     "metadata": {},
     "output_type": "execute_result"
    }
   ],
   "source": [
    "# load json files\n",
    "with open('data/' + pagecounts_mobile_site_filename) as data_file:    \n",
    "    counts_mobile = json.load(data_file)\n",
    "\n",
    "# transform json file to pandas.dataframe\n",
    "counts_mobile_df = json_normalize(counts_mobile['items'])\n",
    "\n",
    "# seperate timestamp into year and month\n",
    "counts_mobile_year = counts_mobile_df['timestamp'].str[0:4]\n",
    "counts_mobile_month = counts_mobile_df['timestamp'].str[4:6]\n",
    "\n",
    "# create pageview_desktop_views dataframe\n",
    "pagecount_mobile_views_df = pd.DataFrame({'pagecount_mobile_views': counts_mobile_df['count'], \n",
    "                                         'year' : counts_mobile_year, 'month' : counts_mobile_month})\n",
    "pagecount_mobile_views_df = pagecount_mobile_views_df[['year', 'month', 'pagecount_mobile_views']]\n",
    "pagecount_mobile_views_df[:5]"
   ]
  },
  {
   "cell_type": "markdown",
   "metadata": {},
   "source": [
    "#### (5) process pagecount_desktop_views\n",
    "\n",
    "Separate the value of timestamp into four-digit year (YYYY) and two-digit month (MM) and discard values for day and hour (DDHH). Only keep year, month and views columns."
   ]
  },
  {
   "cell_type": "code",
   "execution_count": 9,
   "metadata": {
    "collapsed": false
   },
   "outputs": [
    {
     "data": {
      "text/html": [
       "<div>\n",
       "<table border=\"1\" class=\"dataframe\">\n",
       "  <thead>\n",
       "    <tr style=\"text-align: right;\">\n",
       "      <th></th>\n",
       "      <th>year</th>\n",
       "      <th>month</th>\n",
       "      <th>pagecount_desktop_views</th>\n",
       "    </tr>\n",
       "  </thead>\n",
       "  <tbody>\n",
       "    <tr>\n",
       "      <th>0</th>\n",
       "      <td>2008</td>\n",
       "      <td>01</td>\n",
       "      <td>4930902570</td>\n",
       "    </tr>\n",
       "    <tr>\n",
       "      <th>1</th>\n",
       "      <td>2008</td>\n",
       "      <td>02</td>\n",
       "      <td>4818393763</td>\n",
       "    </tr>\n",
       "    <tr>\n",
       "      <th>2</th>\n",
       "      <td>2008</td>\n",
       "      <td>03</td>\n",
       "      <td>4955405809</td>\n",
       "    </tr>\n",
       "    <tr>\n",
       "      <th>3</th>\n",
       "      <td>2008</td>\n",
       "      <td>04</td>\n",
       "      <td>5159162183</td>\n",
       "    </tr>\n",
       "    <tr>\n",
       "      <th>4</th>\n",
       "      <td>2008</td>\n",
       "      <td>05</td>\n",
       "      <td>5584691092</td>\n",
       "    </tr>\n",
       "  </tbody>\n",
       "</table>\n",
       "</div>"
      ],
      "text/plain": [
       "   year month  pagecount_desktop_views\n",
       "0  2008    01               4930902570\n",
       "1  2008    02               4818393763\n",
       "2  2008    03               4955405809\n",
       "3  2008    04               5159162183\n",
       "4  2008    05               5584691092"
      ]
     },
     "execution_count": 9,
     "metadata": {},
     "output_type": "execute_result"
    }
   ],
   "source": [
    "with open('data/' + pagecounts_desktop_site_filename) as data_file:    \n",
    "    counts_desktop = json.load(data_file)\n",
    "\n",
    "# transform json file to pandas.dataframe\n",
    "counts_desktop_df = json_normalize(counts_desktop['items'])\n",
    "\n",
    "# seperate timestamp into year and month\n",
    "counts_desktop_year = counts_desktop_df['timestamp'].str[0:4]\n",
    "counts_desktop_month = counts_desktop_df['timestamp'].str[4:6]\n",
    "\n",
    "# create pageview_desktop_views dataframe\n",
    "pagecount_desktop_views_df = pd.DataFrame({'pagecount_desktop_views': counts_desktop_df['count'], \n",
    "                                         'year' : counts_desktop_year, 'month' : counts_desktop_month})\n",
    "pagecount_desktop_views_df = pagecount_desktop_views_df[['year', 'month', 'pagecount_desktop_views']]\n",
    "pagecount_desktop_views_df[:5]"
   ]
  },
  {
   "cell_type": "markdown",
   "metadata": {},
   "source": [
    "#### (6) process pagecount_all_views\n",
    "\n",
    "Combine mobile views and desktop views to get all views."
   ]
  },
  {
   "cell_type": "code",
   "execution_count": 10,
   "metadata": {
    "collapsed": false
   },
   "outputs": [
    {
     "data": {
      "text/html": [
       "<div>\n",
       "<table border=\"1\" class=\"dataframe\">\n",
       "  <thead>\n",
       "    <tr style=\"text-align: right;\">\n",
       "      <th></th>\n",
       "      <th>year</th>\n",
       "      <th>month</th>\n",
       "      <th>pagecount_all_views</th>\n",
       "    </tr>\n",
       "  </thead>\n",
       "  <tbody>\n",
       "    <tr>\n",
       "      <th>0</th>\n",
       "      <td>2008</td>\n",
       "      <td>01</td>\n",
       "      <td>4930902570</td>\n",
       "    </tr>\n",
       "    <tr>\n",
       "      <th>1</th>\n",
       "      <td>2008</td>\n",
       "      <td>02</td>\n",
       "      <td>4818393763</td>\n",
       "    </tr>\n",
       "    <tr>\n",
       "      <th>2</th>\n",
       "      <td>2008</td>\n",
       "      <td>03</td>\n",
       "      <td>4955405809</td>\n",
       "    </tr>\n",
       "    <tr>\n",
       "      <th>3</th>\n",
       "      <td>2008</td>\n",
       "      <td>04</td>\n",
       "      <td>5159162183</td>\n",
       "    </tr>\n",
       "    <tr>\n",
       "      <th>4</th>\n",
       "      <td>2008</td>\n",
       "      <td>05</td>\n",
       "      <td>5584691092</td>\n",
       "    </tr>\n",
       "  </tbody>\n",
       "</table>\n",
       "</div>"
      ],
      "text/plain": [
       "   year month  pagecount_all_views\n",
       "0  2008    01           4930902570\n",
       "1  2008    02           4818393763\n",
       "2  2008    03           4955405809\n",
       "3  2008    04           5159162183\n",
       "4  2008    05           5584691092"
      ]
     },
     "execution_count": 10,
     "metadata": {},
     "output_type": "execute_result"
    }
   ],
   "source": [
    "# create pageview_all_views dataframe\n",
    "pagecount_all_views_df = pd.merge(pagecount_desktop_views_df, pagecount_mobile_views_df, how='left', on=['year', 'month'])\n",
    "pagecount_all_views_df.fillna(0, inplace=True)\n",
    "pagecount_all_views_df['pagecount_desktop_views'] += pagecount_all_views_df['pagecount_mobile_views']\n",
    "pagecount_all_views_df = pagecount_all_views_df.rename(columns = {'pagecount_desktop_views':'pagecount_all_views'})\n",
    "del pagecount_all_views_df['pagecount_mobile_views']\n",
    "pagecount_all_views_df.pagecount_all_views = pagecount_all_views_df.pagecount_all_views.astype(int)\n",
    "pagecount_all_views_df = pagecount_all_views_df[['year', 'month', 'pagecount_all_views']]\n",
    "pagecount_all_views_df[:5]"
   ]
  },
  {
   "cell_type": "markdown",
   "metadata": {},
   "source": [
    "#### (7) merge all dataframes"
   ]
  },
  {
   "cell_type": "code",
   "execution_count": 11,
   "metadata": {
    "collapsed": false
   },
   "outputs": [
    {
     "data": {
      "text/html": [
       "<div>\n",
       "<table border=\"1\" class=\"dataframe\">\n",
       "  <thead>\n",
       "    <tr style=\"text-align: right;\">\n",
       "      <th></th>\n",
       "      <th>year</th>\n",
       "      <th>month</th>\n",
       "      <th>pagecount_all_views</th>\n",
       "      <th>pagecount_mobile_views</th>\n",
       "      <th>pagecount_desktop_views</th>\n",
       "      <th>pageview_all_views</th>\n",
       "      <th>pageview_mobile_views</th>\n",
       "      <th>pageview_desktop_views</th>\n",
       "    </tr>\n",
       "  </thead>\n",
       "  <tbody>\n",
       "    <tr>\n",
       "      <th>0</th>\n",
       "      <td>2008</td>\n",
       "      <td>01</td>\n",
       "      <td>4930902570</td>\n",
       "      <td>0</td>\n",
       "      <td>4930902570</td>\n",
       "      <td>0</td>\n",
       "      <td>0</td>\n",
       "      <td>0</td>\n",
       "    </tr>\n",
       "    <tr>\n",
       "      <th>1</th>\n",
       "      <td>2008</td>\n",
       "      <td>02</td>\n",
       "      <td>4818393763</td>\n",
       "      <td>0</td>\n",
       "      <td>4818393763</td>\n",
       "      <td>0</td>\n",
       "      <td>0</td>\n",
       "      <td>0</td>\n",
       "    </tr>\n",
       "    <tr>\n",
       "      <th>2</th>\n",
       "      <td>2008</td>\n",
       "      <td>03</td>\n",
       "      <td>4955405809</td>\n",
       "      <td>0</td>\n",
       "      <td>4955405809</td>\n",
       "      <td>0</td>\n",
       "      <td>0</td>\n",
       "      <td>0</td>\n",
       "    </tr>\n",
       "    <tr>\n",
       "      <th>3</th>\n",
       "      <td>2008</td>\n",
       "      <td>04</td>\n",
       "      <td>5159162183</td>\n",
       "      <td>0</td>\n",
       "      <td>5159162183</td>\n",
       "      <td>0</td>\n",
       "      <td>0</td>\n",
       "      <td>0</td>\n",
       "    </tr>\n",
       "    <tr>\n",
       "      <th>4</th>\n",
       "      <td>2008</td>\n",
       "      <td>05</td>\n",
       "      <td>5584691092</td>\n",
       "      <td>0</td>\n",
       "      <td>5584691092</td>\n",
       "      <td>0</td>\n",
       "      <td>0</td>\n",
       "      <td>0</td>\n",
       "    </tr>\n",
       "  </tbody>\n",
       "</table>\n",
       "</div>"
      ],
      "text/plain": [
       "   year month  pagecount_all_views  pagecount_mobile_views  \\\n",
       "0  2008    01           4930902570                       0   \n",
       "1  2008    02           4818393763                       0   \n",
       "2  2008    03           4955405809                       0   \n",
       "3  2008    04           5159162183                       0   \n",
       "4  2008    05           5584691092                       0   \n",
       "\n",
       "   pagecount_desktop_views  pageview_all_views  pageview_mobile_views  \\\n",
       "0               4930902570                   0                      0   \n",
       "1               4818393763                   0                      0   \n",
       "2               4955405809                   0                      0   \n",
       "3               5159162183                   0                      0   \n",
       "4               5584691092                   0                      0   \n",
       "\n",
       "   pageview_desktop_views  \n",
       "0                       0  \n",
       "1                       0  \n",
       "2                       0  \n",
       "3                       0  \n",
       "4                       0  "
      ]
     },
     "execution_count": 11,
     "metadata": {},
     "output_type": "execute_result"
    }
   ],
   "source": [
    "df_list = [pagecount_all_views_df, pagecount_mobile_views_df, pagecount_desktop_views_df,\n",
    "          pageview_all_views_df, pageview_mobile_views_df, pageview_desktop_views_df]\n",
    "df = df_list[0]\n",
    "\n",
    "# merge each dataframe\n",
    "for i in range(1, len(df_list)):\n",
    "    df = pd.merge(df, df_list[i], how='left', on=['year', 'month'])\n",
    "\n",
    "# replace NAN into 0\n",
    "df.fillna(0, inplace=True)\n",
    "\n",
    "# set column type to int\n",
    "df.pagecount_mobile_views = df.pagecount_mobile_views.astype(int)\n",
    "df.pageview_all_views = df.pageview_all_views.astype(int)\n",
    "df.pageview_mobile_views = df.pageview_mobile_views.astype(int)\n",
    "df.pageview_desktop_views = df.pageview_desktop_views.astype(int)\n",
    "df[:5]"
   ]
  },
  {
   "cell_type": "markdown",
   "metadata": {},
   "source": [
    "#### (8) output csv file\n",
    "\n",
    "Combine all data into a single CSV file with the following headers:\n",
    "\n",
    "|  Column | Value  |\n",
    "|---|---|\n",
    "| year  |  YYYY |\n",
    "|  month |  MM |\n",
    "|  pagecount_all_views |  nums_views | \n",
    "|  pagecount_desktop_views |  nums_views |\n",
    "|  pagecount_mobile_views | nums_views  |\n",
    "|  pageview_all_views |  nums_views |\n",
    "|  pageview_desktop_views |  nums_views |\n",
    "|  pageview_mobile_views | nums_views  |\n"
   ]
  },
  {
   "cell_type": "code",
   "execution_count": 12,
   "metadata": {
    "collapsed": true
   },
   "outputs": [],
   "source": [
    "df.to_csv('en-wikipedia_traffic_200801-201709.csv', sep=',')"
   ]
  },
  {
   "cell_type": "markdown",
   "metadata": {},
   "source": [
    "## Step 3: Analysis"
   ]
  },
  {
   "cell_type": "markdown",
   "metadata": {},
   "source": [
    "To analyze pageviews of English Wikipedia, I generate a visualization to plot mobile views, desktop views, and all views. "
   ]
  },
  {
   "cell_type": "code",
   "execution_count": 13,
   "metadata": {
    "collapsed": false
   },
   "outputs": [],
   "source": [
    "df = df.replace(0, np.nan)\n",
    "date = pd.to_datetime(df.year + df.month, format = '%Y%m')"
   ]
  },
  {
   "cell_type": "code",
   "execution_count": 14,
   "metadata": {
    "collapsed": false
   },
   "outputs": [
    {
     "data": {
      "image/png": "[encoded data removed]",
      "text/plain": [
       "<matplotlib.figure.Figure at 0x117045390>"
      ]
     },
     "metadata": {},
     "output_type": "display_data"
    }
   ],
   "source": [
    "years = mdates.YearLocator()   # every year\n",
    "months = mdates.MonthLocator()  # every month\n",
    "fmt = mdates.DateFormatter('%Y')\n",
    "\n",
    "# make plot\n",
    "fig, ax = plt.subplots()\n",
    "\n",
    "ax.plot(date, df['pagecount_mobile_views'], color = 'green', linestyle = '--', alpha=0.7)\n",
    "ax.plot(date, df['pagecount_desktop_views'], color = 'blue', linestyle = '--', alpha=0.7)\n",
    "ax.plot(date, df['pagecount_all_views'], color = 'red', linestyle = '--', alpha=0.7)\n",
    "ax.plot(date, df['pageview_all_views'], color = 'red', alpha=0.7)\n",
    "ax.plot(date, df['pageview_mobile_views'], color = 'green', alpha=0.7)\n",
    "ax.plot(date, df['pageview_desktop_views'], color = 'blue', alpha=0.7)\n",
    "\n",
    "\n",
    "# format the ticks\n",
    "ax.xaxis.set_major_locator(years)\n",
    "ax.xaxis.set_major_formatter(fmt)\n",
    "ax.xaxis.set_minor_locator(months)\n",
    "\n",
    "datemin = datetime.date(date.min().year, 1, 1)\n",
    "datemax = datetime.date(date.max().year + 1, 1, 1)\n",
    "ax.set_xlim(datemin, datemax)\n",
    "fig.autofmt_xdate()\n",
    "\n",
    "# set plot\n",
    "fig.set_size_inches(13, 8)\n",
    "plt.legend(bbox_to_anchor=(1.05, 1), loc=2, prop={'size': 15}, borderaxespad=0.)\n",
    "fig.suptitle('Page Views on English Wikipedia', fontsize=20)\n",
    "ax.set_xlabel('Year')\n",
    "ax.set_ylabel('Page Views')\n",
    "ax.xaxis.label.set_size(15)\n",
    "ax.yaxis.label.set_size(15)\n",
    "plt.show()"
   ]
  },
  {
   "cell_type": "markdown",
   "metadata": {
    "collapsed": false
   },
   "source": [
    "From the figure above, we can see that in general desktop views are much higher than mobile views. For all views, we got the highest point around October 2013, and second highest point around 2011. And we got the lowest point around August 2009. From May 2015, a new pageview definition took effect, which elimilated all crawler traffic. Dashed lines in the figure mark old definition."
   ]
  },
  {
   "cell_type": "code",
   "execution_count": null,
   "metadata": {
    "collapsed": true
   },
   "outputs": [],
   "source": []
  }
 ],
 "metadata": {
  "kernelspec": {
   "display_name": "Python 3",
   "language": "python",
   "name": "python3"
  },
  "language_info": {
   "codemirror_mode": {
    "name": "ipython",
    "version": 3
   },
   "file_extension": ".py",
   "mimetype": "text/x-python",
   "name": "python",
   "nbconvert_exporter": "python",
   "pygments_lexer": "ipython3",
   "version": "3.6.0"
  }
 },
 "nbformat": 4,
 "nbformat_minor": 2
}
